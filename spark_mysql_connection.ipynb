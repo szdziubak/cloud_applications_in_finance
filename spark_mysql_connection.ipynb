{
 "cells": [
  {
   "cell_type": "code",
   "execution_count": 30,
   "metadata": {},
   "outputs": [],
   "source": [
    "#!pip install mysql-connector-python #ta paczka zainstaluje mysql-connector-java-8.0.25.jar, do którego ścieżke trzeba będzie podać w następnym kroku\n",
    "import pyspark\n",
    "import findspark\n",
    "import mysql.connector\n",
    "import pandas as pd\n",
    "from pyspark.sql import Row\n",
    "from pyspark.sql import SparkSession\n",
    "from pyspark import SparkContext"
   ]
  },
  {
   "cell_type": "markdown",
   "metadata": {},
   "source": [
    "pobieranie danych z bazy"
   ]
  },
  {
   "cell_type": "code",
   "execution_count": 31,
   "metadata": {},
   "outputs": [],
   "source": [
    "spark = SparkSession.builder.config(\"spark.jars\", r'C:\\Program Files (x86)\\MySQL\\Connector J 8.0/mysql-connector-java-8.0.25.jar') \\\n",
    "    .master(\"local\").appName(\"PySpark_MySQL\").getOrCreate()"
   ]
  },
  {
   "cell_type": "code",
   "execution_count": 37,
   "metadata": {},
   "outputs": [],
   "source": [
    "pobrane_dane = spark.read.format(\"jdbc\").option(\"url\", \"jdbc:mysql://localhost:3306/flights\") \\\n",
    "    .option(\"driver\", \"com.mysql.jdbc.Driver\").option(\"dbtable\", \"flights\") \\\n",
    "    .option(\"user\", \"root\").option(\"password\", \"mysql\").load()"
   ]
  },
  {
   "cell_type": "code",
   "execution_count": 38,
   "metadata": {},
   "outputs": [
    {
     "name": "stdout",
     "output_type": "stream",
     "text": [
      "+---+--------+-----------+-----+----------+\n",
      "| id|  Origin|Destination|Price|      Date|\n",
      "+---+--------+-----------+-----+----------+\n",
      "|102|Warszawa|      Wilno|  170|2021-05-29|\n",
      "|103|Warszawa|     Berlin|  190|2021-05-30|\n",
      "+---+--------+-----------+-----+----------+\n",
      "\n"
     ]
    }
   ],
   "source": [
    "pobrane_dane.show()"
   ]
  },
  {
   "cell_type": "markdown",
   "metadata": {},
   "source": [
    "wysyłanie danych do bazy"
   ]
  },
  {
   "cell_type": "code",
   "execution_count": 34,
   "metadata": {},
   "outputs": [],
   "source": [
    "s = [(102, \"Warszawa\", \"Wilno\", 170, \"2021-05-29\"), (103, \"Warszawa\", \"Berlin\", 190, \"2021-05-30\")]\n",
    "df = spark.createDataFrame(s, [\"id\", \"Origin\", \"Destination\", \"Price\", \"Date\"])"
   ]
  },
  {
   "cell_type": "code",
   "execution_count": 35,
   "metadata": {},
   "outputs": [
    {
     "name": "stdout",
     "output_type": "stream",
     "text": [
      "+---+--------+-----------+-----+----------+\n",
      "| id|  Origin|Destination|Price|      Date|\n",
      "+---+--------+-----------+-----+----------+\n",
      "|102|Warszawa|      Wilno|  170|2021-05-29|\n",
      "|103|Warszawa|     Berlin|  190|2021-05-30|\n",
      "+---+--------+-----------+-----+----------+\n",
      "\n"
     ]
    }
   ],
   "source": [
    "df.show()"
   ]
  },
  {
   "cell_type": "code",
   "execution_count": 36,
   "metadata": {},
   "outputs": [],
   "source": [
    "df.write.format('jdbc').option(\"url\", \"jdbc:mysql://localhost:3306/flights\") \\\n",
    "    .option(\"driver\", \"com.mysql.jdbc.Driver\").option(\"dbtable\", \"flights\") \\\n",
    "    .option(\"user\", \"root\").option(\"password\", \"mysql\").mode('append').save()"
   ]
  }
 ],
 "metadata": {
  "kernelspec": {
   "display_name": "Python35",
   "language": "python",
   "name": "python35"
  },
  "language_info": {
   "codemirror_mode": {
    "name": "ipython",
    "version": 3
   },
   "file_extension": ".py",
   "mimetype": "text/x-python",
   "name": "python",
   "nbconvert_exporter": "python",
   "pygments_lexer": "ipython3",
   "version": "3.8.5"
  }
 },
 "nbformat": 4,
 "nbformat_minor": 4
}
