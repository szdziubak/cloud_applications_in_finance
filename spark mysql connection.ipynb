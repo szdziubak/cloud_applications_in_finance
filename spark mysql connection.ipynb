{
 "cells": [
  {
   "cell_type": "code",
   "execution_count": 1,
   "metadata": {},
   "outputs": [],
   "source": [
    "import pyspark\n",
    "import findspark\n",
    "import mysql.connector\n",
    "import pandas as pd\n",
    "from pyspark.sql import Row\n",
    "from pyspark.sql import SparkSession\n",
    "from pyspark import SparkContext"
   ]
  },
  {
   "cell_type": "markdown",
   "metadata": {},
   "source": [
    "pobieranie danych z bazy"
   ]
  },
  {
   "cell_type": "code",
   "execution_count": 2,
   "metadata": {},
   "outputs": [],
   "source": [
    "spark = SparkSession.builder.config(\"spark.jars\", r'C:\\Program Files (x86)\\MySQL\\Connector J 8.0/mysql-connector-java-8.0.25.jar') \\\n",
    "    .master(\"local\").appName(\"PySpark_MySQL_test\").getOrCreate()"
   ]
  },
  {
   "cell_type": "code",
   "execution_count": 15,
   "metadata": {},
   "outputs": [],
   "source": [
    "pobrane_dane = spark.read.format(\"jdbc\").option(\"url\", \"jdbc:mysql://localhost:3306/loty\") \\\n",
    "    .option(\"driver\", \"com.mysql.jdbc.Driver\").option(\"dbtable\", \"loty\") \\\n",
    "    .option(\"user\", \"root\").option(\"password\", \"mysql\").load()"
   ]
  },
  {
   "cell_type": "code",
   "execution_count": 16,
   "metadata": {},
   "outputs": [
    {
     "name": "stdout",
     "output_type": "stream",
     "text": [
      "+-------+--------------+--------------+----------------+-----------+-------------+-----+\n",
      "|id_lotu|id_przewoznika|miejsce_wylotu|miejsce_przylotu|data_wylotu|data_przylotu| cena|\n",
      "+-------+--------------+--------------+----------------+-----------+-------------+-----+\n",
      "|    100|            13|      Warszawa|           Wilno| 2021-05-29|   2021-05-30|170.0|\n",
      "|    101|            13|      Warszawa|           Wilno| 2021-05-29|   2021-05-30|170.0|\n",
      "|    102|            13|      Warszawa|           Wilno| 2021-05-29|   2021-05-30|170.0|\n",
      "|    103|            13|      Warszawa|          Berlin| 2021-05-29|   2021-05-30|190.0|\n",
      "+-------+--------------+--------------+----------------+-----------+-------------+-----+\n",
      "\n"
     ]
    }
   ],
   "source": [
    "pobrane_dane.show()"
   ]
  },
  {
   "cell_type": "markdown",
   "metadata": {},
   "source": [
    "wysyłanie danych do bazy"
   ]
  },
  {
   "cell_type": "code",
   "execution_count": 12,
   "metadata": {},
   "outputs": [],
   "source": [
    "s = [(102, 13, \"Warszawa\", \"Wilno\", \"2021-05-29\", \"2021-05-30\", 170), (103, 13, \"Warszawa\", \"Berlin\", \"2021-05-29\", \"2021-05-30\", 190)]\n",
    "df = spark.createDataFrame(s, [\"id_lotu\", \"id_przewoznika\", \"miejsce_wylotu\", \"miejsce_przylotu\", \"data_wylotu\", \"data_przylotu\", \"cena\"])"
   ]
  },
  {
   "cell_type": "code",
   "execution_count": 13,
   "metadata": {},
   "outputs": [
    {
     "name": "stdout",
     "output_type": "stream",
     "text": [
      "+-------+--------------+--------------+----------------+-----------+-------------+----+\n",
      "|id_lotu|id_przewoznika|miejsce_wylotu|miejsce_przylotu|data_wylotu|data_przylotu|cena|\n",
      "+-------+--------------+--------------+----------------+-----------+-------------+----+\n",
      "|    102|            13|      Warszawa|           Wilno| 2021-05-29|   2021-05-30| 170|\n",
      "|    103|            13|      Warszawa|          Berlin| 2021-05-29|   2021-05-30| 190|\n",
      "+-------+--------------+--------------+----------------+-----------+-------------+----+\n",
      "\n"
     ]
    }
   ],
   "source": [
    "df.show()"
   ]
  },
  {
   "cell_type": "code",
   "execution_count": 14,
   "metadata": {},
   "outputs": [],
   "source": [
    "df.write.format('jdbc').option(\"url\", \"jdbc:mysql://localhost:3306/loty\") \\\n",
    "    .option(\"driver\", \"com.mysql.jdbc.Driver\").option(\"dbtable\", \"loty\") \\\n",
    "    .option(\"user\", \"root\").option(\"password\", \"mysql\").mode('append').save()"
   ]
  }
 ],
 "metadata": {
  "kernelspec": {
   "display_name": "Python35",
   "language": "python",
   "name": "python35"
  },
  "language_info": {
   "codemirror_mode": {
    "name": "ipython",
    "version": 3
   },
   "file_extension": ".py",
   "mimetype": "text/x-python",
   "name": "python",
   "nbconvert_exporter": "python",
   "pygments_lexer": "ipython3",
   "version": "3.8.5"
  }
 },
 "nbformat": 4,
 "nbformat_minor": 4
}
